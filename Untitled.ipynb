{
 "cells": [
  {
   "cell_type": "code",
   "execution_count": 1,
   "metadata": {},
   "outputs": [],
   "source": [
    "import math\n",
    "import matplotlib.pyplot as plt\n",
    "import random\n",
    "from collections import Counter\n",
    "from typing import Tuple\n",
    "\n",
    "\n",
    "#\n",
    "# Chapter 6\n",
    "#\n",
    "\n",
    "\n",
    "sqrt_two_pi = math.sqrt(2 * math.pi)\n",
    "def normal_pdf(x: float, mu: float=0, sigma: float=1) -> float:\n",
    "    return math.exp(-(x-mu)**2 / 2 / sigma**2) / sqrt_two_pi / sigma\n",
    "\n",
    "def normal_cdf(x: float, mu: float=0, sigma: float=1) -> float:\n",
    "    return (1 + math.erf((x-mu) / math.sqrt(2) / sigma)) /2\n",
    "\n",
    "def inverse_normal_cdf(p: float, mu: float=0, sigma: float=1, tolerance: float=0.00001) -> float:\n",
    "    \"\"\"Find approximate inverse using binary search. This is possible since normal_cdf is continuous and monotonically increasing.\"\"\"\n",
    "\n",
    "    # if not standard, compute standard and rescale\n",
    "    if mu != 0 or sigma != 1:\n",
    "        return mu + sigma * inverse_normal_cdf(p, tolerance=tolerance)\n",
    "\n",
    "    low_z = -10                     # normal_cdf(-10) is very close to 0\n",
    "    hi_z = 10                       # normal_cdf(10) is very close to 1\n",
    "\n",
    "    while hi_z - low_z > tolerance:\n",
    "        mid_z = (low_z + hi_z) / 2      # Consider the midpoint\n",
    "        mid_p = normal_cdf(mid_z)       # and the CDF's value there\n",
    "        if mid_p < p:\n",
    "            low_z = mid_z               # Midpoint too low, search above it\n",
    "        else:\n",
    "            hi_z = mid_z                # Midpoint too high, search below it\n",
    "    return mid_z\n",
    "\n",
    "def bernoulli_trial(p: float) -> int:\n",
    "    return 1 if random.random() < p else 0\n",
    "\n",
    "def binomial(n: int, p: float) -> int:\n",
    "    return sum(bernoulli_trial(p) for _ in range(n))\n",
    "\n",
    "def binomial_histogram(p: float, n: int, num_points: int) -> None:\n",
    "    \"\"\"Picks points from a binomial(n,p) and plots their histogram.\"\"\"\n",
    "    data = [binomial(n,p) for _ in range(num_points)]\n",
    "\n",
    "    # use a bar chart to show the actual binomial samples\n",
    "    histogram = Counter(data)\n",
    "    plt.bar([x for x in histogram.keys()],\n",
    "            [v / num_points for v in histogram.values()],\n",
    "            0.8,\n",
    "            color='0.75')\n",
    "    \n",
    "    mu = p * n\n",
    "    sigma = math.sqrt(n * p * (1-p))\n",
    "\n",
    "    # use a line chart to show the normal approximation\n",
    "    xs = range(min(data), max(data) + 1)\n",
    "    ys = [normal_cdf(i + 0.5, mu, sigma) - normal_cdf(i - 0.5, mu, sigma) for i in xs]\n",
    "    plt.plot(xs, ys)\n",
    "    plt.title(\"Binomial Distribution vs. Normal Approximation\")\n",
    "    plt.show()"
   ]
  },
  {
   "cell_type": "code",
   "execution_count": 2,
   "metadata": {},
   "outputs": [
    {
     "data": {
      "image/png": "[encoded data removed]",
      "text/plain": [
       "<Figure size 432x288 with 1 Axes>"
      ]
     },
     "metadata": {
      "needs_background": "light"
     },
     "output_type": "display_data"
    }
   ],
   "source": [
    "binomial_histogram(0.75, 100, 1000)"
   ]
  },
  {
   "cell_type": "code",
   "execution_count": 3,
   "metadata": {},
   "outputs": [],
   "source": [
    "#\n",
    "# Chapter 7\n",
    "#\n",
    "\n",
    "\n",
    "# Used for testing hypotheses about binomially distributed variables.\n",
    "def normal_approximation_to_binomial(n: int, p: float) -> Tuple[float, float]:\n",
    "    \"\"\"Returns mu and sigma corresponding to a Binomial(n, p)\"\"\"\n",
    "    mu = p * n\n",
    "    sigma = math.sqrt(p * (1-p) * n)\n",
    "    return mu, sigma\n",
    "\n",
    "# The normal cdf _is_ the probability the variable is below a threshold\n",
    "normal_probability_below = normal_cdf\n",
    "\n",
    "# It's above the threshold if it's not below the threshold\n",
    "def normal_probability_above(lo: float, mu: float=0, sigma: float=1) -> float:\n",
    "    \"\"\"The probability that an N(mu, sigma) is greater than lo.\"\"\"\n",
    "    return 1 - normal_cdf(lo, mu, sigma)\n",
    "\n",
    "def normal_probability_between(lo: float, hi: float, mu: float = 0, sigma: float=1) -> float:\n",
    "    \"\"\"The probability that an N(mu, sigma) is between lo and hi.\"\"\"\n",
    "    return normal_cdf(hi, mu, sigma) - normal_cdf(lo, mu, sigma)\n",
    "\n",
    "def normal_probability_outside(lo: float, hi: float, mu: float, sigma: float) -> float:\n",
    "    return 1 - normal_probability_between(lo, hi, mu, sigma)\n",
    "\n",
    "def normal_upper_bound(probability: float, mu: float=0, sigma: float=1) -> float:\n",
    "    \"\"\"Returns the z for which P(Z <= z) = probility\"\"\"\n",
    "    return inverse_normal_cdf(probability, mu, sigma)\n",
    "\n",
    "def normal_lower_bound(probability: float, mu: float=0, sigma: float=1) -> float:\n",
    "    \"\"\"Returns the z for which P(Z >= z) = probility\"\"\"\n",
    "    return inverse_normal_cdf(1 - probability, mu, sigma)\n",
    "\n",
    "def normal_two_sided_bounds(probability: float, mu: float=0, sigma: float=1) -> Tuple[float, float]:\n",
    "    \"\"\"Returns the symmetric (about the mean) bounds which contain the specified probability\"\"\"\n",
    "    tail_probability = (1 - probability) /2\n",
    "\n",
    "    # upper bound should have tail_probability above it\n",
    "    upper_bound = normal_lower_bound(tail_probability, mu, sigma)\n",
    "\n",
    "    # lower bound should have tail_probability below it\n",
    "    lower_bound = normal_upper_bound(tail_probability, mu, sigma)\n",
    "\n",
    "    return lower_bound, upper_bound"
   ]
  },
  {
   "cell_type": "code",
   "execution_count": 14,
   "metadata": {},
   "outputs": [
    {
     "name": "stdout",
     "output_type": "stream",
     "text": [
      "mu_0, sigma_0 = 500.0, 15.811388300841896\n",
      "lo, hi = 469.01026640487555, 530.9897335951244\n",
      "mu_1, sigma_1 = 550.0, 15.732132722552274\n",
      "Chance of making a Type II error: 0.11345199870463285\n",
      "Power: 0.8865480012953671\n"
     ]
    }
   ],
   "source": [
    "# Experiment: Given a coin, find how fair it is. \n",
    "#\n",
    "# Null hypothesis: The given coin is fair. In other words, P(Heads) = 0.50\n",
    "#\n",
    "#\n",
    "# Test: We can check this hypothesis by sampling it 1000 times and \n",
    "# checking how it measures against its associated normal approximation\n",
    "mu_0, sigma_0 = normal_approximation_to_binomial(1000, 0.5)\n",
    "print(f\"mu_0, sigma_0 = {mu_0}, {sigma_0}\")\n",
    "# Significance: For any hypothesis, we are willing to make a type I error (false positive) 5% of the time. \n",
    "# i.e. we are willing to incorrectly reject the null hypothesis 5% of the time.\n",
    "lo, hi = normal_two_sided_bounds(0.95, mu_0, sigma_0)  \n",
    "print(f\"lo, hi = {lo}, {hi}\")\n",
    "#\n",
    "# Type II errors (false negative) can make sense if you define what negative means.\n",
    "# Do this by comparing with another hypothesis. False = Alternate hypothesis is true\n",
    "#\n",
    "# Alternate hypothesis: P(Heads) = 0.55\n",
    "mu_1, sigma_1 = normal_approximation_to_binomial(1000, 0.55)\n",
    "print(f\"mu_1, sigma_1 = {mu_1}, {sigma_1}\")\n",
    "# Type II error means we fail to reject the null hypothesis,\n",
    "# which will happen in the original interval\n",
    "type_2_probability = normal_probability_between(lo, hi, mu_1, sigma_1)\n",
    "print(f\"Chance of making a Type II error: {type_2_probability}\")\n",
    "power = 1 - type_2_probability\n",
    "print(f\"Power: {power}\")"
   ]
  },
  {
   "cell_type": "code",
   "execution_count": 15,
   "metadata": {},
   "outputs": [
    {
     "name": "stdout",
     "output_type": "stream",
     "text": [
      "p-value = 0.05777957112359733\n"
     ]
    }
   ],
   "source": [
    "# p-values\n",
    "#\n",
    "# Another way to perform the previous test:\n",
    "# instead of measuring the bounds from a predetermined cutoff of 5%,\n",
    "# take the most extreme value from the mean, and compute likelyness of\n",
    "# observing a value at least as extreme as that\n",
    "# using the associated normal distribution\n",
    "def two_sided_p_value(x: float, mu: float=0, sigma: float=1) -> float:\n",
    "    \"\"\"How likely are we to see a value at least as rare as x (in either direction) if our values are from an N(mu, sigma)?\"\"\"\n",
    "    if x >= mu:\n",
    "        # x is greater than the mean, so the tail is everything greater than x\n",
    "        # using the fact that N(mu, sigma) is not skewed\n",
    "        return 2 * normal_probability_above(x, mu, sigma)\n",
    "    else:\n",
    "        # x is less than the mean, so the tail is everything less than x\n",
    "        return 2 * normal_probability_below(x, mu, sigma)\n",
    "# Suppose we observed an extreme value of 530\n",
    "pv = two_sided_p_value(530, mu_0, sigma_0)\n",
    "print(f\"p-value = {pv}\")\n",
    "# If the p value is less than 5% (significance) then we reject the null hypothesis\n",
    "# This is telling us that the extreme values we observed are too rare for the null hypothesis to be true\n",
    "# If the p value is greater than 5%, then we don't conlude anything\n"
   ]
  },
  {
   "cell_type": "code",
   "execution_count": 17,
   "metadata": {},
   "outputs": [
    {
     "name": "stdout",
     "output_type": "stream",
     "text": [
      "Confidence interval: (0.4940490278129096, 0.5559509721870904)\n"
     ]
    }
   ],
   "source": [
    "# confidence intervals\n",
    "#\n",
    "# estimate the sample distribution by a N(mu, sigma) approximation\n",
    "p_hat = 525 / 1000\n",
    "mu = p_hat\n",
    "sigma = math.sqrt(p_hat*(1 - p_hat) / 1000)\n",
    "# take 95% confidence interval around the mean\n",
    "c = normal_two_sided_bounds(0.95, mu, sigma)\n",
    "print(f\"Confidence interval: {c}\")\n",
    "# we are 95% confident the true mean is contained in this interval"
   ]
  },
  {
   "cell_type": "code",
   "execution_count": 26,
   "metadata": {},
   "outputs": [
    {
     "name": "stdout",
     "output_type": "stream",
     "text": [
      "Number of rejections (should be ~50): 55\n"
     ]
    }
   ],
   "source": [
    "# p-hacking\n",
    "\n",
    "from typing import List\n",
    "\n",
    "def run_experiment() -> List[bool]:\n",
    "    return [random.random() < 0.5 for _ in range(1000)]\n",
    "\n",
    "def reject_fairness(experiment: List[bool]) -> bool:\n",
    "    \"\"\"Using 5% significance levels\"\"\"\n",
    "    num_heads = len([flip for flip in experiment if flip])\n",
    "    return num_heads < lo or num_heads > hi\n",
    "\n",
    "experiments = [run_experiment() for _ in range(1000)]\n",
    "num_rejections = len([experiment for experiment in experiments if reject_fairness(experiment)])\n",
    "print(f\"Number of rejections (should be ~50): {num_rejections}\")"
   ]
  },
  {
   "cell_type": "code",
   "execution_count": null,
   "metadata": {},
   "outputs": [],
   "source": []
  },
  {
   "cell_type": "code",
   "execution_count": null,
   "metadata": {},
   "outputs": [],
   "source": []
  }
 ],
 "metadata": {
  "kernelspec": {
   "display_name": "Python 3",
   "language": "python",
   "name": "python3"
  },
  "language_info": {
   "codemirror_mode": {
    "name": "ipython",
    "version": 3
   },
   "file_extension": ".py",
   "mimetype": "text/x-python",
   "name": "python",
   "nbconvert_exporter": "python",
   "pygments_lexer": "ipython3",
   "version": "3.7.4"
  }
 },
 "nbformat": 4,
 "nbformat_minor": 2
}
